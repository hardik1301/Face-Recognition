{
 "cells": [
  {
   "cell_type": "code",
   "execution_count": 1,
   "metadata": {},
   "outputs": [
    {
     "name": "stderr",
     "output_type": "stream",
     "text": [
      "F:\\Users\\This PC\\Anaconda3\\lib\\site-packages\\sklearn\\cross_validation.py:41: DeprecationWarning: This module was deprecated in version 0.18 in favor of the model_selection module into which all the refactored classes and functions are moved. Also note that the interface of the new CV iterators are different from that of this module. This module will be removed in 0.20.\n",
      "  \"This module will be removed in 0.20.\", DeprecationWarning)\n",
      "F:\\Users\\This PC\\Anaconda3\\lib\\site-packages\\sklearn\\utils\\deprecation.py:58: DeprecationWarning: Class RandomizedPCA is deprecated; RandomizedPCA was deprecated in 0.18 and will be removed in 0.20. Use PCA(svd_solver='randomized') instead. The new implementation DOES NOT store whiten ``components_``. Apply transform to get them.\n",
      "  warnings.warn(msg, category=DeprecationWarning)\n"
     ]
    },
    {
     "name": "stdout",
     "output_type": "stream",
     "text": [
      "Knn accuracy: 56.99999999999999\n",
      "SVM accuracy: 96.0\n"
     ]
    }
   ],
   "source": [
    "import numpy as np\n",
    "faces_image = np.load('..\\minor sem5\\olivetti_faces.npy')\n",
    "faces_target = np.load('..\\minor sem5\\olivetti_faces_target.npy')\n",
    "#faces_image\n",
    "\n",
    "n_row = 64\n",
    "n_col = 64\n",
    "faces_image.shape\n",
    "\n",
    "faces_data = faces_image.reshape(faces_image.shape[0], faces_image.shape[1] * faces_image.shape[2])\n",
    "faces_data.shape\n",
    "#print(faces_target)\n",
    "import warnings\n",
    "warnings.filterwarnings(\"ignore\")\n",
    "from skimage.io import imshow\n",
    "loadImage = faces_image[20]\n",
    "#imshow(loadImage)\n",
    "#loadImage.shape\n",
    "\n",
    "\n",
    "n_samples,h,w = faces_image.shape\n",
    "   # for machine learning we use the 2 data directly\n",
    "X = faces_data\n",
    "n_features = faces_data.shape[1]\n",
    "   # the label to predict is the id of the person\n",
    "y = faces_target\n",
    "n_classes = faces_target.shape[0]\n",
    "\n",
    "#print(\"Total dataset size:\")\n",
    "#print(\"n_samples: %d\" % n_samples)\n",
    "#print(\"n_features: %d\" % n_features)\n",
    "#print(\"n_classes: %d\" % n_classes)\n",
    "\n",
    "from sklearn.cross_validation import train_test_split\n",
    "from sklearn.neighbors import KNeighborsClassifier\n",
    "from sklearn.decomposition import RandomizedPCA \n",
    "from sklearn import metrics\n",
    "from sklearn.svm import SVC\n",
    "from sklearn.model_selection import GridSearchCV\n",
    "\n",
    "X_train,X_test,y_train,y_test=train_test_split(X,y,test_size=.25,random_state=42)\n",
    "#print(\"Xtrain\",X_train)\n",
    "#print(\"Length of Xtrain:\",len(X_train))\n",
    "#print(\"Xtest\",X_test)\n",
    "#print(\"Length of Xtest:\",len(X_test))\n",
    "#print(\"ytrain\",y_train)\n",
    "#print(\"Length of ytrain:\",len(y_train))\n",
    "#print(\"ytest\",y_test)\n",
    "#print(\"Length of ytest:\",len(y_test))\n",
    "\n",
    "\n",
    " #k=150 reduced dimensionality\n",
    "n_components=150\n",
    "\n",
    "  #find top n principal components in the data\n",
    "pca=RandomizedPCA(n_components=n_components,whiten=True).fit(X_train)\n",
    "\n",
    "  #eigen vector faces\n",
    "eigenfaces=pca.components_.reshape((n_components,h,w))\n",
    "\n",
    "  #training & testing set of reduced dimensional dataset\n",
    "X_train_pca=pca.transform(X_train)\n",
    "X_test_pca=pca.transform(X_test)\n",
    "  \n",
    "    #using knn classifier\n",
    "knn_classifier=KNeighborsClassifier(n_neighbors=5)\n",
    "knn_classifier.fit(X_train_pca,y_train)\n",
    "\n",
    "  #detect faces in the test set\n",
    "y_pred_test=knn_classifier.predict(X_test_pca)\n",
    "#print(y_pred_test)\n",
    "print(\"Knn accuracy:\", metrics.accuracy_score(y_test,y_pred_test)*100)\n",
    "\n",
    "   #using svm classifier\n",
    "param_grid = {'C': [1e3, 5e3, 1e4, 5e4, 1e5],\n",
    "              'gamma': [0.0001, 0.0005, 0.001, 0.005, 0.01, 0.1], }\n",
    "clf = GridSearchCV(SVC(kernel='rbf', class_weight='balanced'), param_grid)\n",
    "clf = clf.fit(X_train_pca, y_train)\n",
    "#print(clf.best_estimator_)\n",
    "\n",
    "y_pred = clf.predict(X_test_pca)\n",
    "print(\"SVM accuracy:\",metrics.accuracy_score(y_test,y_pred)*100)"
   ]
  },
  {
   "cell_type": "code",
   "execution_count": null,
   "metadata": {},
   "outputs": [],
   "source": []
  }
 ],
 "metadata": {
  "kernelspec": {
   "display_name": "Python 3",
   "language": "python",
   "name": "python3"
  },
  "language_info": {
   "codemirror_mode": {
    "name": "ipython",
    "version": 3
   },
   "file_extension": ".py",
   "mimetype": "text/x-python",
   "name": "python",
   "nbconvert_exporter": "python",
   "pygments_lexer": "ipython3",
   "version": "3.6.5"
  }
 },
 "nbformat": 4,
 "nbformat_minor": 2
}
